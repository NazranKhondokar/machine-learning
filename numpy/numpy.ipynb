{
 "cells": [
  {
   "cell_type": "code",
   "execution_count": 3,
   "id": "9f482c12-0925-4c2e-8c59-7623c3abb6c1",
   "metadata": {},
   "outputs": [],
   "source": [
    "import numpy as np"
   ]
  },
  {
   "cell_type": "markdown",
   "id": "8fb16553-0801-49cc-93c4-ce53dab43a96",
   "metadata": {},
   "source": [
    "## NumPy Array with `Zeros()` Function"
   ]
  },
  {
   "cell_type": "code",
   "execution_count": 79,
   "id": "0c62805d-5de9-422b-96ca-cc9ce775ef54",
   "metadata": {},
   "outputs": [
    {
     "data": {
      "text/plain": [
       "array([0., 0., 0., 0., 0.])"
      ]
     },
     "execution_count": 79,
     "metadata": {},
     "output_type": "execute_result"
    }
   ],
   "source": [
    "np.zeros(5)"
   ]
  },
  {
   "cell_type": "code",
   "execution_count": 81,
   "id": "8b7c3fbc-c55b-46c1-969e-fd95dc98293e",
   "metadata": {},
   "outputs": [
    {
     "data": {
      "text/plain": [
       "array([[0, 0, 0, 0, 0],\n",
       "       [0, 0, 0, 0, 0],\n",
       "       [0, 0, 0, 0, 0]])"
      ]
     },
     "execution_count": 81,
     "metadata": {},
     "output_type": "execute_result"
    }
   ],
   "source": [
    "np.zeros((3,5), dtype = \"int\")"
   ]
  },
  {
   "cell_type": "markdown",
   "id": "1431ca40-c61c-4d63-aec4-2ffba8210243",
   "metadata": {},
   "source": [
    "## NumPy Array with `Ones()` Function"
   ]
  },
  {
   "cell_type": "code",
   "execution_count": 83,
   "id": "e547474e-cb4e-45f2-bc18-fc8cdca692c4",
   "metadata": {},
   "outputs": [
    {
     "data": {
      "text/plain": [
       "array([[[1, 1, 1, 1, 1],\n",
       "        [1, 1, 1, 1, 1],\n",
       "        [1, 1, 1, 1, 1],\n",
       "        [1, 1, 1, 1, 1]],\n",
       "\n",
       "       [[1, 1, 1, 1, 1],\n",
       "        [1, 1, 1, 1, 1],\n",
       "        [1, 1, 1, 1, 1],\n",
       "        [1, 1, 1, 1, 1]],\n",
       "\n",
       "       [[1, 1, 1, 1, 1],\n",
       "        [1, 1, 1, 1, 1],\n",
       "        [1, 1, 1, 1, 1],\n",
       "        [1, 1, 1, 1, 1]]])"
      ]
     },
     "execution_count": 83,
     "metadata": {},
     "output_type": "execute_result"
    }
   ],
   "source": [
    "np.ones((3,4,5), dtype = \"int\")"
   ]
  },
  {
   "cell_type": "markdown",
   "id": "9d2de68c-1da6-4ddf-94bc-27dc18c5cf6c",
   "metadata": {},
   "source": [
    "## NumPy Array with `Full()` Function"
   ]
  },
  {
   "cell_type": "code",
   "execution_count": 97,
   "id": "c5e874e1-04d1-4b4b-8a6f-886f7b352263",
   "metadata": {},
   "outputs": [
    {
     "data": {
      "text/plain": [
       "array([[6., 6., 6.],\n",
       "       [6., 6., 6.]])"
      ]
     },
     "execution_count": 97,
     "metadata": {},
     "output_type": "execute_result"
    }
   ],
   "source": [
    "np.full((2,3), 6, dtype = \"float\")"
   ]
  },
  {
   "cell_type": "markdown",
   "id": "836c95d5-2f47-43be-a9eb-ea2c605d3d46",
   "metadata": {},
   "source": [
    "## NumPy Array with `Arange()` Function"
   ]
  },
  {
   "cell_type": "code",
   "execution_count": 111,
   "id": "395ba118-bc4b-44a4-b59b-dfc5d98585d5",
   "metadata": {},
   "outputs": [
    {
     "data": {
      "text/plain": [
       "array([2., 3., 4., 5., 6., 7., 8., 9.])"
      ]
     },
     "execution_count": 111,
     "metadata": {},
     "output_type": "execute_result"
    }
   ],
   "source": [
    "np.arange(2, 10, dtype = \"float\")"
   ]
  },
  {
   "cell_type": "markdown",
   "id": "169a844d-8b58-4369-96f4-622ad9da3664",
   "metadata": {},
   "source": [
    "## NumPy Array with `Eye()` Function"
   ]
  },
  {
   "cell_type": "code",
   "execution_count": 124,
   "id": "cc2b5c69-2500-4623-8224-4b8f4f958b5f",
   "metadata": {},
   "outputs": [
    {
     "data": {
      "text/plain": [
       "array([[1., 0., 0.],\n",
       "       [0., 1., 0.],\n",
       "       [0., 0., 1.]])"
      ]
     },
     "execution_count": 124,
     "metadata": {},
     "output_type": "execute_result"
    }
   ],
   "source": [
    "np.eye(3)"
   ]
  },
  {
   "cell_type": "code",
   "execution_count": 117,
   "id": "5c208c86-1359-4fa9-8131-6efe67b3f1fa",
   "metadata": {},
   "outputs": [
    {
     "data": {
      "text/plain": [
       "array([[1., 0.],\n",
       "       [0., 1.],\n",
       "       [0., 0.]])"
      ]
     },
     "execution_count": 117,
     "metadata": {},
     "output_type": "execute_result"
    }
   ],
   "source": [
    "np.eye(3,2)"
   ]
  },
  {
   "cell_type": "code",
   "execution_count": 121,
   "id": "a5a29b0d-c1c6-4677-a05d-33368bc3e5a3",
   "metadata": {},
   "outputs": [
    {
     "data": {
      "text/plain": [
       "array([[ True, False],\n",
       "       [False,  True],\n",
       "       [False, False]])"
      ]
     },
     "execution_count": 121,
     "metadata": {},
     "output_type": "execute_result"
    }
   ],
   "source": [
    "np.eye(3,2,dtype=\"bool\")"
   ]
  },
  {
   "cell_type": "markdown",
   "id": "c2408d18-41b3-428b-afb8-447ec6e0b520",
   "metadata": {},
   "source": [
    "## NumPy Array with `Linspace()` Function"
   ]
  },
  {
   "cell_type": "code",
   "execution_count": 126,
   "id": "09c3a330-bc66-498e-9413-686a3014ebdd",
   "metadata": {},
   "outputs": [
    {
     "data": {
      "text/plain": [
       "array([10.        , 12.22222222, 14.44444444, 16.66666667, 18.88888889,\n",
       "       21.11111111, 23.33333333, 25.55555556, 27.77777778, 30.        ])"
      ]
     },
     "execution_count": 126,
     "metadata": {},
     "output_type": "execute_result"
    }
   ],
   "source": [
    "np.linspace(10, 30, 10)"
   ]
  },
  {
   "cell_type": "markdown",
   "id": "40bc2515-eb02-48aa-b292-61da0719d344",
   "metadata": {},
   "source": [
    "## NumPy Array with `Random()` Function"
   ]
  },
  {
   "cell_type": "code",
   "execution_count": 128,
   "id": "84f5e16a-4a24-46cb-a178-5d92fc49f37e",
   "metadata": {},
   "outputs": [
    {
     "data": {
      "text/plain": [
       "array([0.04912221, 0.31058067, 0.24809702, 0.67342094, 0.81900648])"
      ]
     },
     "execution_count": 128,
     "metadata": {},
     "output_type": "execute_result"
    }
   ],
   "source": [
    "np.random.rand(5)"
   ]
  },
  {
   "cell_type": "code",
   "execution_count": 130,
   "id": "a0d4bd35-7619-441e-917e-e5e5ad0383ee",
   "metadata": {},
   "outputs": [
    {
     "data": {
      "text/plain": [
       "array([[0.05620318, 0.71502624, 0.26362882],\n",
       "       [0.79348239, 0.8062787 , 0.21943066]])"
      ]
     },
     "execution_count": 130,
     "metadata": {},
     "output_type": "execute_result"
    }
   ],
   "source": [
    "np.random.rand(2, 3)"
   ]
  },
  {
   "cell_type": "code",
   "execution_count": 132,
   "id": "5a4b43f1-b025-41fc-99ad-d7d3dddaa2e8",
   "metadata": {},
   "outputs": [
    {
     "data": {
      "text/plain": [
       "array([ 1.61992538, -0.47040122, -2.85078972, -0.13634668, -0.56320056])"
      ]
     },
     "execution_count": 132,
     "metadata": {},
     "output_type": "execute_result"
    }
   ],
   "source": [
    "np.random.randn(5)"
   ]
  },
  {
   "cell_type": "code",
   "execution_count": 134,
   "id": "641d935e-e939-4118-830c-8ad3cd99cc37",
   "metadata": {},
   "outputs": [
    {
     "data": {
      "text/plain": [
       "array([[26.97403092, 21.56144297, 18.8049518 ],\n",
       "       [25.20092111, 26.4127337 , 28.2941984 ],\n",
       "       [21.44260703, 27.65557638, 17.94579729],\n",
       "       [17.20973714, 22.94490813, 15.66496286]])"
      ]
     },
     "execution_count": 134,
     "metadata": {},
     "output_type": "execute_result"
    }
   ],
   "source": [
    "np.random.normal(20, 5, (4, 3))"
   ]
  },
  {
   "cell_type": "code",
   "execution_count": 136,
   "id": "60dfddef-706f-4f02-824f-6bb8f6590b80",
   "metadata": {},
   "outputs": [
    {
     "data": {
      "text/plain": [
       "array([[7, 5, 8, 5],\n",
       "       [5, 8, 1, 2],\n",
       "       [9, 0, 2, 9],\n",
       "       [3, 9, 7, 3]])"
      ]
     },
     "execution_count": 136,
     "metadata": {},
     "output_type": "execute_result"
    }
   ],
   "source": [
    "np.random.randint(0, 10, (4, 4))"
   ]
  },
  {
   "cell_type": "markdown",
   "id": "fff8e343-19c0-41c1-818c-184b4fa69e25",
   "metadata": {},
   "source": [
    "## NumPy Array `Reshape()` Function"
   ]
  },
  {
   "cell_type": "code",
   "execution_count": 5,
   "id": "44f2033a-2a51-4186-b07b-6a116c0cbbd8",
   "metadata": {},
   "outputs": [],
   "source": [
    "example = np.arange(1, 16)"
   ]
  },
  {
   "cell_type": "code",
   "execution_count": 7,
   "id": "94f2faea-4848-4a7b-9c89-d8f767ecd008",
   "metadata": {},
   "outputs": [
    {
     "data": {
      "text/plain": [
       "array([ 1,  2,  3,  4,  5,  6,  7,  8,  9, 10, 11, 12, 13, 14, 15])"
      ]
     },
     "execution_count": 7,
     "metadata": {},
     "output_type": "execute_result"
    }
   ],
   "source": [
    "example"
   ]
  },
  {
   "cell_type": "code",
   "execution_count": 24,
   "id": "eab8ae51-4830-4993-8058-52cc80bd3c67",
   "metadata": {},
   "outputs": [],
   "source": [
    "array = example.reshape(3, 5)"
   ]
  },
  {
   "cell_type": "code",
   "execution_count": 30,
   "id": "18858a0f-3b74-45ac-9e1f-7c774e3fb402",
   "metadata": {},
   "outputs": [
    {
     "data": {
      "text/plain": [
       "array([[ 1,  2,  3,  4,  5],\n",
       "       [ 6,  7,  8,  9, 10],\n",
       "       [11, 12, 13, 14, 15]])"
      ]
     },
     "execution_count": 30,
     "metadata": {},
     "output_type": "execute_result"
    }
   ],
   "source": [
    "array"
   ]
  },
  {
   "cell_type": "markdown",
   "id": "fb82a5c9-3265-4efe-a3f9-dd925ccb5cf8",
   "metadata": {},
   "source": [
    "// Getting the number of dimensions"
   ]
  },
  {
   "cell_type": "code",
   "execution_count": 13,
   "id": "e357e14f-5a29-45e0-80a6-83dd83001eaf",
   "metadata": {},
   "outputs": [
    {
     "data": {
      "text/plain": [
       "1"
      ]
     },
     "execution_count": 13,
     "metadata": {},
     "output_type": "execute_result"
    }
   ],
   "source": [
    "example.ndim"
   ]
  },
  {
   "cell_type": "code",
   "execution_count": 32,
   "id": "a613c539-564e-4f62-a479-222720fe835c",
   "metadata": {},
   "outputs": [
    {
     "data": {
      "text/plain": [
       "2"
      ]
     },
     "execution_count": 32,
     "metadata": {},
     "output_type": "execute_result"
    }
   ],
   "source": [
    "array.ndim"
   ]
  },
  {
   "cell_type": "code",
   "execution_count": null,
   "id": "7ca03636-8477-4154-b83c-ee9c77520c7c",
   "metadata": {},
   "outputs": [],
   "source": []
  }
 ],
 "metadata": {
  "kernelspec": {
   "display_name": "Python 3 (ipykernel)",
   "language": "python",
   "name": "python3"
  },
  "language_info": {
   "codemirror_mode": {
    "name": "ipython",
    "version": 3
   },
   "file_extension": ".py",
   "mimetype": "text/x-python",
   "name": "python",
   "nbconvert_exporter": "python",
   "pygments_lexer": "ipython3",
   "version": "3.12.4"
  }
 },
 "nbformat": 4,
 "nbformat_minor": 5
}
