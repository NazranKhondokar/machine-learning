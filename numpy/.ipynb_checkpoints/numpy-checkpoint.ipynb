{
 "cells": [
  {
   "cell_type": "code",
   "execution_count": 57,
   "id": "9f482c12-0925-4c2e-8c59-7623c3abb6c1",
   "metadata": {},
   "outputs": [],
   "source": [
    "import numpy as np"
   ]
  },
  {
   "cell_type": "markdown",
   "id": "8fb16553-0801-49cc-93c4-ce53dab43a96",
   "metadata": {},
   "source": [
    "## NumPy Array with `Zeros()` Function"
   ]
  },
  {
   "cell_type": "code",
   "execution_count": 79,
   "id": "0c62805d-5de9-422b-96ca-cc9ce775ef54",
   "metadata": {},
   "outputs": [
    {
     "data": {
      "text/plain": [
       "array([0., 0., 0., 0., 0.])"
      ]
     },
     "execution_count": 79,
     "metadata": {},
     "output_type": "execute_result"
    }
   ],
   "source": [
    "np.zeros(5)"
   ]
  },
  {
   "cell_type": "code",
   "execution_count": 81,
   "id": "8b7c3fbc-c55b-46c1-969e-fd95dc98293e",
   "metadata": {},
   "outputs": [
    {
     "data": {
      "text/plain": [
       "array([[0, 0, 0, 0, 0],\n",
       "       [0, 0, 0, 0, 0],\n",
       "       [0, 0, 0, 0, 0]])"
      ]
     },
     "execution_count": 81,
     "metadata": {},
     "output_type": "execute_result"
    }
   ],
   "source": [
    "np.zeros((3,5), dtype = \"int\")"
   ]
  },
  {
   "cell_type": "markdown",
   "id": "1431ca40-c61c-4d63-aec4-2ffba8210243",
   "metadata": {},
   "source": [
    "## NumPy Array with `Ones()` Function"
   ]
  },
  {
   "cell_type": "code",
   "execution_count": 83,
   "id": "e547474e-cb4e-45f2-bc18-fc8cdca692c4",
   "metadata": {},
   "outputs": [
    {
     "data": {
      "text/plain": [
       "array([[[1, 1, 1, 1, 1],\n",
       "        [1, 1, 1, 1, 1],\n",
       "        [1, 1, 1, 1, 1],\n",
       "        [1, 1, 1, 1, 1]],\n",
       "\n",
       "       [[1, 1, 1, 1, 1],\n",
       "        [1, 1, 1, 1, 1],\n",
       "        [1, 1, 1, 1, 1],\n",
       "        [1, 1, 1, 1, 1]],\n",
       "\n",
       "       [[1, 1, 1, 1, 1],\n",
       "        [1, 1, 1, 1, 1],\n",
       "        [1, 1, 1, 1, 1],\n",
       "        [1, 1, 1, 1, 1]]])"
      ]
     },
     "execution_count": 83,
     "metadata": {},
     "output_type": "execute_result"
    }
   ],
   "source": [
    "np.ones((3,4,5), dtype = \"int\")"
   ]
  },
  {
   "cell_type": "markdown",
   "id": "9d2de68c-1da6-4ddf-94bc-27dc18c5cf6c",
   "metadata": {},
   "source": [
    "## NumPy Array with `Full()` Function"
   ]
  },
  {
   "cell_type": "code",
   "execution_count": 97,
   "id": "c5e874e1-04d1-4b4b-8a6f-886f7b352263",
   "metadata": {},
   "outputs": [
    {
     "data": {
      "text/plain": [
       "array([[6., 6., 6.],\n",
       "       [6., 6., 6.]])"
      ]
     },
     "execution_count": 97,
     "metadata": {},
     "output_type": "execute_result"
    }
   ],
   "source": [
    "np.full((2,3), 6, dtype = \"float\")"
   ]
  },
  {
   "cell_type": "markdown",
   "id": "836c95d5-2f47-43be-a9eb-ea2c605d3d46",
   "metadata": {},
   "source": [
    "## NumPy Array with `Arange()` Function"
   ]
  },
  {
   "cell_type": "code",
   "execution_count": 111,
   "id": "395ba118-bc4b-44a4-b59b-dfc5d98585d5",
   "metadata": {},
   "outputs": [
    {
     "data": {
      "text/plain": [
       "array([2., 3., 4., 5., 6., 7., 8., 9.])"
      ]
     },
     "execution_count": 111,
     "metadata": {},
     "output_type": "execute_result"
    }
   ],
   "source": [
    "np.arange(2, 10, dtype = \"float\")"
   ]
  },
  {
   "cell_type": "markdown",
   "id": "169a844d-8b58-4369-96f4-622ad9da3664",
   "metadata": {},
   "source": [
    "## NumPy Array with `Eye()` Function"
   ]
  },
  {
   "cell_type": "code",
   "execution_count": 124,
   "id": "cc2b5c69-2500-4623-8224-4b8f4f958b5f",
   "metadata": {},
   "outputs": [
    {
     "data": {
      "text/plain": [
       "array([[1., 0., 0.],\n",
       "       [0., 1., 0.],\n",
       "       [0., 0., 1.]])"
      ]
     },
     "execution_count": 124,
     "metadata": {},
     "output_type": "execute_result"
    }
   ],
   "source": [
    "np.eye(3)"
   ]
  },
  {
   "cell_type": "code",
   "execution_count": 117,
   "id": "5c208c86-1359-4fa9-8131-6efe67b3f1fa",
   "metadata": {},
   "outputs": [
    {
     "data": {
      "text/plain": [
       "array([[1., 0.],\n",
       "       [0., 1.],\n",
       "       [0., 0.]])"
      ]
     },
     "execution_count": 117,
     "metadata": {},
     "output_type": "execute_result"
    }
   ],
   "source": [
    "np.eye(3,2)"
   ]
  },
  {
   "cell_type": "code",
   "execution_count": 121,
   "id": "a5a29b0d-c1c6-4677-a05d-33368bc3e5a3",
   "metadata": {},
   "outputs": [
    {
     "data": {
      "text/plain": [
       "array([[ True, False],\n",
       "       [False,  True],\n",
       "       [False, False]])"
      ]
     },
     "execution_count": 121,
     "metadata": {},
     "output_type": "execute_result"
    }
   ],
   "source": [
    "np.eye(3,2,dtype=\"bool\")"
   ]
  },
  {
   "cell_type": "markdown",
   "id": "c2408d18-41b3-428b-afb8-447ec6e0b520",
   "metadata": {},
   "source": [
    "## NumPy Array with `Linspace()` Function"
   ]
  },
  {
   "cell_type": "code",
   "execution_count": 126,
   "id": "09c3a330-bc66-498e-9413-686a3014ebdd",
   "metadata": {},
   "outputs": [
    {
     "data": {
      "text/plain": [
       "array([10.        , 12.22222222, 14.44444444, 16.66666667, 18.88888889,\n",
       "       21.11111111, 23.33333333, 25.55555556, 27.77777778, 30.        ])"
      ]
     },
     "execution_count": 126,
     "metadata": {},
     "output_type": "execute_result"
    }
   ],
   "source": [
    "np.linspace(10, 30, 10)"
   ]
  },
  {
   "cell_type": "markdown",
   "id": "40bc2515-eb02-48aa-b292-61da0719d344",
   "metadata": {},
   "source": [
    "## NumPy Array with `Random()` Function"
   ]
  },
  {
   "cell_type": "code",
   "execution_count": 128,
   "id": "84f5e16a-4a24-46cb-a178-5d92fc49f37e",
   "metadata": {},
   "outputs": [
    {
     "data": {
      "text/plain": [
       "array([0.04912221, 0.31058067, 0.24809702, 0.67342094, 0.81900648])"
      ]
     },
     "execution_count": 128,
     "metadata": {},
     "output_type": "execute_result"
    }
   ],
   "source": [
    "np.random.rand(5)"
   ]
  },
  {
   "cell_type": "code",
   "execution_count": 130,
   "id": "a0d4bd35-7619-441e-917e-e5e5ad0383ee",
   "metadata": {},
   "outputs": [
    {
     "data": {
      "text/plain": [
       "array([[0.05620318, 0.71502624, 0.26362882],\n",
       "       [0.79348239, 0.8062787 , 0.21943066]])"
      ]
     },
     "execution_count": 130,
     "metadata": {},
     "output_type": "execute_result"
    }
   ],
   "source": [
    "np.random.rand(2, 3)"
   ]
  },
  {
   "cell_type": "code",
   "execution_count": 132,
   "id": "5a4b43f1-b025-41fc-99ad-d7d3dddaa2e8",
   "metadata": {},
   "outputs": [
    {
     "data": {
      "text/plain": [
       "array([ 1.61992538, -0.47040122, -2.85078972, -0.13634668, -0.56320056])"
      ]
     },
     "execution_count": 132,
     "metadata": {},
     "output_type": "execute_result"
    }
   ],
   "source": [
    "np.random.randn(5)"
   ]
  },
  {
   "cell_type": "code",
   "execution_count": 134,
   "id": "641d935e-e939-4118-830c-8ad3cd99cc37",
   "metadata": {},
   "outputs": [
    {
     "data": {
      "text/plain": [
       "array([[26.97403092, 21.56144297, 18.8049518 ],\n",
       "       [25.20092111, 26.4127337 , 28.2941984 ],\n",
       "       [21.44260703, 27.65557638, 17.94579729],\n",
       "       [17.20973714, 22.94490813, 15.66496286]])"
      ]
     },
     "execution_count": 134,
     "metadata": {},
     "output_type": "execute_result"
    }
   ],
   "source": [
    "np.random.normal(20, 5, (4, 3))"
   ]
  },
  {
   "cell_type": "code",
   "execution_count": 136,
   "id": "60dfddef-706f-4f02-824f-6bb8f6590b80",
   "metadata": {},
   "outputs": [
    {
     "data": {
      "text/plain": [
       "array([[7, 5, 8, 5],\n",
       "       [5, 8, 1, 2],\n",
       "       [9, 0, 2, 9],\n",
       "       [3, 9, 7, 3]])"
      ]
     },
     "execution_count": 136,
     "metadata": {},
     "output_type": "execute_result"
    }
   ],
   "source": [
    "np.random.randint(0, 10, (4, 4))"
   ]
  },
  {
   "cell_type": "markdown",
   "id": "fff8e343-19c0-41c1-818c-184b4fa69e25",
   "metadata": {},
   "source": [
    "## NumPy Array `Reshape()` Function"
   ]
  },
  {
   "cell_type": "code",
   "execution_count": 5,
   "id": "44f2033a-2a51-4186-b07b-6a116c0cbbd8",
   "metadata": {},
   "outputs": [],
   "source": [
    "example = np.arange(1, 16)"
   ]
  },
  {
   "cell_type": "code",
   "execution_count": 7,
   "id": "94f2faea-4848-4a7b-9c89-d8f767ecd008",
   "metadata": {},
   "outputs": [
    {
     "data": {
      "text/plain": [
       "array([ 1,  2,  3,  4,  5,  6,  7,  8,  9, 10, 11, 12, 13, 14, 15])"
      ]
     },
     "execution_count": 7,
     "metadata": {},
     "output_type": "execute_result"
    }
   ],
   "source": [
    "example"
   ]
  },
  {
   "cell_type": "code",
   "execution_count": 24,
   "id": "eab8ae51-4830-4993-8058-52cc80bd3c67",
   "metadata": {},
   "outputs": [],
   "source": [
    "array = example.reshape(3, 5)"
   ]
  },
  {
   "cell_type": "code",
   "execution_count": 30,
   "id": "18858a0f-3b74-45ac-9e1f-7c774e3fb402",
   "metadata": {},
   "outputs": [
    {
     "data": {
      "text/plain": [
       "array([[ 1,  2,  3,  4,  5],\n",
       "       [ 6,  7,  8,  9, 10],\n",
       "       [11, 12, 13, 14, 15]])"
      ]
     },
     "execution_count": 30,
     "metadata": {},
     "output_type": "execute_result"
    }
   ],
   "source": [
    "array"
   ]
  },
  {
   "cell_type": "markdown",
   "id": "fb82a5c9-3265-4efe-a3f9-dd925ccb5cf8",
   "metadata": {},
   "source": [
    "// Getting the number of dimensions"
   ]
  },
  {
   "cell_type": "code",
   "execution_count": 13,
   "id": "e357e14f-5a29-45e0-80a6-83dd83001eaf",
   "metadata": {},
   "outputs": [
    {
     "data": {
      "text/plain": [
       "1"
      ]
     },
     "execution_count": 13,
     "metadata": {},
     "output_type": "execute_result"
    }
   ],
   "source": [
    "example.ndim"
   ]
  },
  {
   "cell_type": "code",
   "execution_count": 32,
   "id": "a613c539-564e-4f62-a479-222720fe835c",
   "metadata": {},
   "outputs": [
    {
     "data": {
      "text/plain": [
       "2"
      ]
     },
     "execution_count": 32,
     "metadata": {},
     "output_type": "execute_result"
    }
   ],
   "source": [
    "array.ndim"
   ]
  },
  {
   "cell_type": "markdown",
   "id": "a2a03d24-0e9e-4367-af47-52532418c526",
   "metadata": {},
   "source": [
    "## Identifying the Largest Element of a Numpy Array"
   ]
  },
  {
   "cell_type": "code",
   "execution_count": 41,
   "id": "1df0e6ac-be4e-419f-92a9-4c3c53be9814",
   "metadata": {},
   "outputs": [],
   "source": [
    "array = np.random.randint(0, 50, (4, 3))"
   ]
  },
  {
   "cell_type": "code",
   "execution_count": 43,
   "id": "01eabbac-89d7-438e-a605-6921fcd0f56b",
   "metadata": {},
   "outputs": [
    {
     "data": {
      "text/plain": [
       "array([[42, 10, 23],\n",
       "       [ 7,  1, 36],\n",
       "       [ 7, 36, 13],\n",
       "       [13,  2, 29]])"
      ]
     },
     "execution_count": 43,
     "metadata": {},
     "output_type": "execute_result"
    }
   ],
   "source": [
    "array"
   ]
  },
  {
   "cell_type": "code",
   "execution_count": 45,
   "id": "026d37e6-72a3-4c26-a3ee-f253d45be209",
   "metadata": {},
   "outputs": [
    {
     "data": {
      "text/plain": [
       "42"
      ]
     },
     "execution_count": 45,
     "metadata": {},
     "output_type": "execute_result"
    }
   ],
   "source": [
    "array.max()"
   ]
  },
  {
   "cell_type": "markdown",
   "id": "a716dab1-b048-4746-bdd9-8838e207910e",
   "metadata": {},
   "source": [
    "// max value index"
   ]
  },
  {
   "cell_type": "code",
   "execution_count": 47,
   "id": "3896221c-53f7-48d6-a7c8-80c695bea417",
   "metadata": {},
   "outputs": [
    {
     "data": {
      "text/plain": [
       "0"
      ]
     },
     "execution_count": 47,
     "metadata": {},
     "output_type": "execute_result"
    }
   ],
   "source": [
    "array.argmax()"
   ]
  },
  {
   "cell_type": "markdown",
   "id": "08ebd484-0d33-46d2-bd76-9a08b7b23192",
   "metadata": {},
   "source": [
    "## Identifying the Largest Element of a Numpy Array"
   ]
  },
  {
   "cell_type": "code",
   "execution_count": 49,
   "id": "5fd434a3-fbbb-4a54-9e36-3bb1bd019bc1",
   "metadata": {},
   "outputs": [
    {
     "data": {
      "text/plain": [
       "1"
      ]
     },
     "execution_count": 49,
     "metadata": {},
     "output_type": "execute_result"
    }
   ],
   "source": [
    "array.min()"
   ]
  },
  {
   "cell_type": "code",
   "execution_count": null,
   "id": "b0751611-f1a0-477f-8ae6-78f4b01316de",
   "metadata": {},
   "outputs": [],
   "source": [
    "## min value index"
   ]
  },
  {
   "cell_type": "code",
   "execution_count": 51,
   "id": "816703a5-02e7-456f-905a-b594fbdd23ae",
   "metadata": {},
   "outputs": [
    {
     "data": {
      "text/plain": [
       "4"
      ]
     },
     "execution_count": 51,
     "metadata": {},
     "output_type": "execute_result"
    }
   ],
   "source": [
    "array.argmin()"
   ]
  },
  {
   "cell_type": "markdown",
   "id": "6e836416-3e38-4305-9f76-1a06ef3ca866",
   "metadata": {},
   "source": [
    "## Numpy Arrays `Concatenate()` Function"
   ]
  },
  {
   "cell_type": "code",
   "execution_count": 53,
   "id": "527441bc-f0e5-4b32-ad8b-c8dd3088bde8",
   "metadata": {},
   "outputs": [],
   "source": [
    "array1 = np.array([1,2,3,4])"
   ]
  },
  {
   "cell_type": "code",
   "execution_count": 73,
   "id": "008aa729-873f-43fa-9afc-2db7fc1e0304",
   "metadata": {},
   "outputs": [],
   "source": [
    "array2 = np.array([5,6,7,8])"
   ]
  },
  {
   "cell_type": "code",
   "execution_count": 77,
   "id": "8e930126-2ad1-44e7-a6d4-9db7d1380ddf",
   "metadata": {},
   "outputs": [
    {
     "data": {
      "text/plain": [
       "array([1, 2, 3, 4, 5, 6, 7, 8])"
      ]
     },
     "execution_count": 77,
     "metadata": {},
     "output_type": "execute_result"
    }
   ],
   "source": [
    "np.concatenate([array1, array2])"
   ]
  },
  {
   "cell_type": "code",
   "execution_count": 79,
   "id": "6e4973d7-a00c-400e-9282-6bff67bd5478",
   "metadata": {},
   "outputs": [],
   "source": [
    "array3 = np.arange(1,7).reshape(2,3)"
   ]
  },
  {
   "cell_type": "code",
   "execution_count": 81,
   "id": "0e791984-1909-481f-a5db-1e1f9eb11a71",
   "metadata": {},
   "outputs": [
    {
     "data": {
      "text/plain": [
       "array([[1, 2, 3],\n",
       "       [4, 5, 6]])"
      ]
     },
     "execution_count": 81,
     "metadata": {},
     "output_type": "execute_result"
    }
   ],
   "source": [
    "array3"
   ]
  },
  {
   "cell_type": "code",
   "execution_count": 83,
   "id": "d5c340ab-2ad7-4b6b-9ac2-4e852ca2d3b5",
   "metadata": {},
   "outputs": [],
   "source": [
    "array4 = np.array([[7,8,9],[10,11,12]])"
   ]
  },
  {
   "cell_type": "code",
   "execution_count": 85,
   "id": "979bd1d1-6e9c-4cc6-9c72-b09ea192d446",
   "metadata": {},
   "outputs": [
    {
     "data": {
      "text/plain": [
       "array([[ 7,  8,  9],\n",
       "       [10, 11, 12]])"
      ]
     },
     "execution_count": 85,
     "metadata": {},
     "output_type": "execute_result"
    }
   ],
   "source": [
    "array4"
   ]
  },
  {
   "cell_type": "code",
   "execution_count": 95,
   "id": "c7747677-f0f4-424b-943c-5f4d537f5946",
   "metadata": {},
   "outputs": [
    {
     "data": {
      "text/plain": [
       "array([[ 1,  2,  3],\n",
       "       [ 4,  5,  6],\n",
       "       [ 7,  8,  9],\n",
       "       [10, 11, 12]])"
      ]
     },
     "execution_count": 95,
     "metadata": {},
     "output_type": "execute_result"
    }
   ],
   "source": [
    "np.concatenate([array3, array4])"
   ]
  },
  {
   "cell_type": "code",
   "execution_count": 97,
   "id": "1d1c499a-cf5d-407e-a82b-78d72422a326",
   "metadata": {},
   "outputs": [
    {
     "data": {
      "text/plain": [
       "array([[ 1,  2,  3,  7,  8,  9],\n",
       "       [ 4,  5,  6, 10, 11, 12]])"
      ]
     },
     "execution_count": 97,
     "metadata": {},
     "output_type": "execute_result"
    }
   ],
   "source": [
    "np.concatenate([array3, array4], axis = 1)"
   ]
  },
  {
   "cell_type": "markdown",
   "id": "4e6a7a4c-c253-4c4a-a8ad-f1f0781a158b",
   "metadata": {},
   "source": [
    "## Splitting One-Dimensional Numpy Arrays"
   ]
  },
  {
   "cell_type": "code",
   "execution_count": 121,
   "id": "626a5fb3-7239-4ac9-a9e6-bccc553fc1e0",
   "metadata": {},
   "outputs": [
    {
     "data": {
      "text/plain": [
       "[array([[42, 10, 23],\n",
       "        [ 7,  1, 36],\n",
       "        [ 7, 36, 13]]),\n",
       " array([[13,  2, 29]]),\n",
       " array([], shape=(0, 3), dtype=int64)]"
      ]
     },
     "execution_count": 121,
     "metadata": {},
     "output_type": "execute_result"
    }
   ],
   "source": [
    "np.split(array, [3,5])"
   ]
  },
  {
   "cell_type": "code",
   "execution_count": 127,
   "id": "707ffb67-ea26-4d84-a43f-73ea0fcfd3d5",
   "metadata": {},
   "outputs": [],
   "source": [
    "x, y, z = np.split(array, [3, 5])"
   ]
  },
  {
   "cell_type": "code",
   "execution_count": 129,
   "id": "060c1a70-27d3-4652-819c-dc0f1b0b3647",
   "metadata": {},
   "outputs": [
    {
     "data": {
      "text/plain": [
       "array([[42, 10, 23],\n",
       "       [ 7,  1, 36],\n",
       "       [ 7, 36, 13]])"
      ]
     },
     "execution_count": 129,
     "metadata": {},
     "output_type": "execute_result"
    }
   ],
   "source": [
    "x"
   ]
  },
  {
   "cell_type": "code",
   "execution_count": 131,
   "id": "397e2522-86ce-4b67-984f-58b288302498",
   "metadata": {},
   "outputs": [
    {
     "data": {
      "text/plain": [
       "array([[13,  2, 29]])"
      ]
     },
     "execution_count": 131,
     "metadata": {},
     "output_type": "execute_result"
    }
   ],
   "source": [
    "y"
   ]
  },
  {
   "cell_type": "code",
   "execution_count": 133,
   "id": "521b51cc-7bf5-4f4a-8cd9-079e7ef5bcd2",
   "metadata": {},
   "outputs": [
    {
     "data": {
      "text/plain": [
       "array([], shape=(0, 3), dtype=int64)"
      ]
     },
     "execution_count": 133,
     "metadata": {},
     "output_type": "execute_result"
    }
   ],
   "source": [
    "z"
   ]
  },
  {
   "cell_type": "code",
   "execution_count": 135,
   "id": "7854a4e0-2dc8-4076-adc5-e30e6c4cb2e7",
   "metadata": {},
   "outputs": [
    {
     "data": {
      "text/plain": [
       "[array([[42, 10, 23]]),\n",
       " array([[ 7,  1, 36]]),\n",
       " array([[ 7, 36, 13]]),\n",
       " array([[13,  2, 29]])]"
      ]
     },
     "execution_count": 135,
     "metadata": {},
     "output_type": "execute_result"
    }
   ],
   "source": [
    "np.split(array, 4)"
   ]
  },
  {
   "cell_type": "markdown",
   "id": "43b5eea3-f278-471d-b84c-9134e662f22a",
   "metadata": {},
   "source": [
    "## Splitting Two-Dimensional Numpy Arrays"
   ]
  },
  {
   "cell_type": "code",
   "execution_count": 137,
   "id": "38fd9f39-390d-40b5-a0ad-727b91f7764e",
   "metadata": {},
   "outputs": [
    {
     "data": {
      "text/plain": [
       "[array([[42],\n",
       "        [ 7],\n",
       "        [ 7],\n",
       "        [13]]),\n",
       " array([[10, 23],\n",
       "        [ 1, 36],\n",
       "        [36, 13],\n",
       "        [ 2, 29]]),\n",
       " array([], shape=(4, 0), dtype=int64)]"
      ]
     },
     "execution_count": 137,
     "metadata": {},
     "output_type": "execute_result"
    }
   ],
   "source": [
    "np.split(array, [1,3], axis = 1)"
   ]
  },
  {
   "cell_type": "code",
   "execution_count": 141,
   "id": "1a7eebb4-a171-453a-8f00-b9aec46b0964",
   "metadata": {},
   "outputs": [
    {
     "data": {
      "text/plain": [
       "[array([[42],\n",
       "        [ 7],\n",
       "        [ 7],\n",
       "        [13]]),\n",
       " array([[10],\n",
       "        [ 1],\n",
       "        [36],\n",
       "        [ 2]]),\n",
       " array([[23],\n",
       "        [36],\n",
       "        [13],\n",
       "        [29]])]"
      ]
     },
     "execution_count": 141,
     "metadata": {},
     "output_type": "execute_result"
    }
   ],
   "source": [
    "np.hsplit(array, 3)"
   ]
  },
  {
   "cell_type": "code",
   "execution_count": 143,
   "id": "8c797f25-b8fc-4247-84ce-da112496c0b7",
   "metadata": {},
   "outputs": [
    {
     "data": {
      "text/plain": [
       "[array([[42],\n",
       "        [ 7],\n",
       "        [ 7],\n",
       "        [13]]),\n",
       " array([[10, 23],\n",
       "        [ 1, 36],\n",
       "        [36, 13],\n",
       "        [ 2, 29]]),\n",
       " array([], shape=(4, 0), dtype=int64)]"
      ]
     },
     "execution_count": 143,
     "metadata": {},
     "output_type": "execute_result"
    }
   ],
   "source": [
    "np.hsplit(array, [1,3])"
   ]
  },
  {
   "cell_type": "code",
   "execution_count": 145,
   "id": "6055d4ba-b584-4a9d-b161-03e9950699bd",
   "metadata": {},
   "outputs": [
    {
     "data": {
      "text/plain": [
       "[array([[42, 10, 23]]),\n",
       " array([[ 7,  1, 36]]),\n",
       " array([[ 7, 36, 13]]),\n",
       " array([[13,  2, 29]])]"
      ]
     },
     "execution_count": 145,
     "metadata": {},
     "output_type": "execute_result"
    }
   ],
   "source": [
    "np.vsplit(array, 4)"
   ]
  },
  {
   "cell_type": "code",
   "execution_count": null,
   "id": "e33e6720-2cfa-40da-abce-72bd56a32d9e",
   "metadata": {},
   "outputs": [],
   "source": []
  }
 ],
 "metadata": {
  "kernelspec": {
   "display_name": "Python 3 (ipykernel)",
   "language": "python",
   "name": "python3"
  },
  "language_info": {
   "codemirror_mode": {
    "name": "ipython",
    "version": 3
   },
   "file_extension": ".py",
   "mimetype": "text/x-python",
   "name": "python",
   "nbconvert_exporter": "python",
   "pygments_lexer": "ipython3",
   "version": "3.12.4"
  }
 },
 "nbformat": 4,
 "nbformat_minor": 5
}
