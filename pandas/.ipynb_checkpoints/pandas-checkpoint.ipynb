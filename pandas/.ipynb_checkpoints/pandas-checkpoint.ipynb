{
 "cells": [
  {
   "cell_type": "markdown",
   "id": "ca9b7cc8-3651-4c3f-87f1-2ae5d7c801c5",
   "metadata": {},
   "source": [
    "# Speciality of Pandas"
   ]
  },
  {
   "cell_type": "code",
   "execution_count": 11,
   "id": "9289967f-349a-4007-b930-4cbdf8182b03",
   "metadata": {},
   "outputs": [],
   "source": [
    "import pandas as pd"
   ]
  },
  {
   "cell_type": "markdown",
   "id": "0c3bfeb0-4671-4358-a378-b851c0e21d08",
   "metadata": {},
   "source": [
    "### Pandas series with list"
   ]
  },
  {
   "cell_type": "code",
   "execution_count": 15,
   "id": "4497e606-62bf-4d15-8371-f66ae2bb0f2c",
   "metadata": {},
   "outputs": [],
   "source": [
    "list_data = [2,4,6,8,10]\n",
    "list_index = [\"a\",\"b\",\"c\",\"d\",\"e\"]"
   ]
  },
  {
   "cell_type": "code",
   "execution_count": 17,
   "id": "ab154f2d-4829-4f45-bd7a-bc48b1236a76",
   "metadata": {},
   "outputs": [],
   "source": [
    "variable = pd.Series(data = list_data, index = list_index, dtype = \"float\")"
   ]
  },
  {
   "cell_type": "code",
   "execution_count": 19,
   "id": "7f0feb1a-2e61-4e3a-afc6-f51782abc9dd",
   "metadata": {},
   "outputs": [
    {
     "data": {
      "text/plain": [
       "a     2.0\n",
       "b     4.0\n",
       "c     6.0\n",
       "d     8.0\n",
       "e    10.0\n",
       "dtype: float64"
      ]
     },
     "execution_count": 19,
     "metadata": {},
     "output_type": "execute_result"
    }
   ],
   "source": [
    "variable"
   ]
  },
  {
   "cell_type": "code",
   "execution_count": null,
   "id": "cb4ef13d-692d-4e98-a6be-2953a0500d4f",
   "metadata": {},
   "outputs": [],
   "source": []
  }
 ],
 "metadata": {
  "kernelspec": {
   "display_name": "Python 3 (ipykernel)",
   "language": "python",
   "name": "python3"
  },
  "language_info": {
   "codemirror_mode": {
    "name": "ipython",
    "version": 3
   },
   "file_extension": ".py",
   "mimetype": "text/x-python",
   "name": "python",
   "nbconvert_exporter": "python",
   "pygments_lexer": "ipython3",
   "version": "3.12.4"
  }
 },
 "nbformat": 4,
 "nbformat_minor": 5
}
